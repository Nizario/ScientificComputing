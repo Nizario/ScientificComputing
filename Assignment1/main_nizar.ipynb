{
 "cells": [
  {
   "cell_type": "markdown",
   "metadata": {},
   "source": [
    "1. Rewrite Notebook\n",
    "2. Rewrite code to fit notebook\n",
    "3. Get all plots according to notebook\n",
    "4. Comment and transform code\n",
    "5. Push notebook"
   ]
  },
  {
   "cell_type": "code",
   "execution_count": 2,
   "metadata": {},
   "outputs": [],
   "source": [
    "import numpy as np\n",
    "from math import *\n",
    "import matplotlib.pyplot as plt\n",
    "from tqdm import tqdm"
   ]
  },
  {
   "cell_type": "markdown",
   "metadata": {},
   "source": [
    "# Set 1\n",
    "\n",
    "## 1.1 Vibrating string\n",
    "\n",
    "#### A. Discriteze the wave equation and write it in a form suitable for implementing in a computer program.\n"
   ]
  },
  {
   "cell_type": "code",
   "execution_count": null,
   "metadata": {},
   "outputs": [],
   "source": []
  },
  {
   "cell_type": "markdown",
   "metadata": {},
   "source": [
    "#### B. Implement the time stepping. Determine the time development of the string, with the following initial conditions. The string is at rest at t = 0, i.e. Ψ′(x,t = 0) = 0. Take c = 1 and use the time step ∆t = 0.001. Plot the result at several times in the same figure, e.g. varying the color of the curve."
   ]
  },
  {
   "cell_type": "code",
   "execution_count": null,
   "metadata": {},
   "outputs": [],
   "source": []
  },
  {
   "cell_type": "markdown",
   "metadata": {},
   "source": [
    "#### C. Make an animated plot of the time development."
   ]
  },
  {
   "cell_type": "code",
   "execution_count": null,
   "metadata": {},
   "outputs": [],
   "source": []
  },
  {
   "cell_type": "markdown",
   "metadata": {},
   "source": [
    "## 1.2 The Time Dependent Diffusion Equation\n",
    "\n",
    "#### D. Determine the equation to use at the boundaries of the domain. Clearly show the ranges of the indices of the grid. A figure is extremely helpful for figuring this out."
   ]
  },
  {
   "cell_type": "markdown",
   "metadata": {},
   "source": [
    "We use assume periodic boundary conditions at x = 0 and x = 1. For x = 1, the scheme would then be:\n",
    "\n",
    "   \n",
    "   \n",
    "$c^{k+1}_{i,j}$ = $c^K_{N,j} + \\frac{\\delta t D}{\\delta x^2}$ $(c^k_{0, j} + c^k_{N-1,j} + c^k_{N,j-1} - 4c^k_{N,j})$"
   ]
  },
  {
   "cell_type": "code",
   "execution_count": 165,
   "metadata": {},
   "outputs": [
    {
     "name": "stderr",
     "output_type": "stream",
     "text": [
      "1001it [00:07, 138.71it/s]                                      \n"
     ]
    }
   ],
   "source": [
    "import numpy as np\n",
    "from math import *\n",
    "import matplotlib.pyplot as plt\n",
    "from tqdm import tqdm\n",
    "import copy\n",
    "import matplotlib.animation as animation\n",
    "\n",
    "\n",
    "\n",
    "class diffusion_equation():\n",
    "    \n",
    "    def __init__(self, times=[0.001,0.01]):\n",
    "        \n",
    "        # initalizing values over grid\n",
    "        self.Nx, self.Ny = 50, 50\n",
    "        self.dx, self.dy = 1/self.Nx, 1/self.Ny\n",
    "        self.D = 1\n",
    "        \n",
    "        # time values\n",
    "        self.dt = 0.00001\n",
    "        self.times = times\n",
    "        self.time = self.times[-1]\n",
    "        \n",
    "        \n",
    "        # initial values\n",
    "        self.c = np.zeros((self.Ny,self.Nx))\n",
    "        self.c[0] = 1\n",
    "        self.cs = []\n",
    "        self.timesteps = np.arange(0, self.time+self.dt, self.dt)\n",
    "        \n",
    "        \n",
    "    def time_dependent_formula(self, j, i):\n",
    "        # apply time dependent formula\n",
    "        self.c[j][i] = self.c[j][i] + (self.dt*self.D/self.dx**2)*(self.c[j][(i+1)%self.Nx] + \n",
    "                self.c[j][(i-1)%self.Nx] + self.c[j+1][i] + self.c[j-1][i] - 4*self.c[j][i])\n",
    "        return self.c\n",
    "    \n",
    "    def analytical_formula(self, count):\n",
    "        analytical_solution = []\n",
    "        for y in np.arange(0.,1.0,.001):\n",
    "            # set i and Dt\n",
    "            i = (self.Ny-1)\n",
    "            Dt = self.times[count]\n",
    "            # apply analytical formula\n",
    "            y_sol = np.sum([erfc((1-y+2*i)/(2*sqrt(Dt))) - \n",
    "                                      erfc((1+y+2*i)/(2*sqrt(Dt))) for i in range(self.Ny)])\n",
    "            # add result to a list\n",
    "            analytical_solution.append(y_sol)\n",
    "        # return analytical solutions\n",
    "        return analytical_solution\n",
    "    \n",
    "    def time_dependent_iteration(self):\n",
    "        with tqdm(total=self.time/self.dt) as pbar:\n",
    "            # time-stepping\n",
    "            for timestep in self.timesteps:\n",
    "                # all vertical lines\n",
    "                for j in range(1,self.Ny-1):\n",
    "                    # all horizontal lines\n",
    "                    for i in range(self.Nx):\n",
    "                        self.time_dependent_formula(j, i)\n",
    "                # add timesteps to plot\n",
    "                if timestep in self.times:\n",
    "                    self.cs.append(copy.copy(self.c))\n",
    "                pbar.update()\n",
    "\n",
    "    def plot_results(self, showComparison=False, showProgress=False, makeVid=False):\n",
    "        \n",
    "        if showComparison == True:\n",
    "            count = 0\n",
    "            for c in self.cs:\n",
    "                # plot the simulation result line\n",
    "                line1, = plt.plot(np.arange(0.,1,1/self.Ny),list(reversed(c[:,int(self.Ny/2)])), 'k',label='simulation')\n",
    "                # calculate and plot the analytical result line\n",
    "                analytical_solution = self.analytical_formula(count)\n",
    "                line2, = plt.plot(np.arange(0.,1,0.001),analytical_solution, 'k--',label='analytical solution')\n",
    "                count += 1\n",
    "\n",
    "            # set title and labels\n",
    "            plt.title('Simulation vs. Analytical solutions of the time dependent diffusion equation')\n",
    "            plt.legend(handles=[line1,line2], loc='best')\n",
    "            plt.ylabel(\"c\")\n",
    "            plt.show()  \n",
    "        \n",
    "        if showProgress == True:\n",
    "            count = 0\n",
    "            # show progress of diffusion visually\n",
    "            for c in self.cs:\n",
    "                plt.imshow(c, cmap='bone')\n",
    "                plt.title('Visualization of the diffusion at time ' + str(self.times[count]))\n",
    "                plt.show()\n",
    "                count += 1\n",
    "                \n",
    "        if makeVid == True:\n",
    "            fig = plt.figure()\n",
    "\n",
    "            ims = []\n",
    "            count = 0\n",
    "            for c in self.cs:\n",
    "                im = plt.imshow(c, cmap='bone')\n",
    "                \n",
    "                ims.append([im])\n",
    "                count += 1\n",
    "\n",
    "            ani = animation.ArtistAnimation(fig, ims, interval=50, blit=True)\n",
    "            ani.save('dynamic_images.html')\n"
   ]
  },
  {
   "cell_type": "code",
   "execution_count": null,
   "metadata": {},
   "outputs": [],
   "source": [
    "model = diffusion_equation()\n",
    "model.time_dependent_iteration()"
   ]
  },
  {
   "cell_type": "markdown",
   "metadata": {},
   "source": [
    "#### E. Test the correctness of your simulation. Compare to the analytic solutions, plot c(y) for different times. "
   ]
  },
  {
   "cell_type": "code",
   "execution_count": 131,
   "metadata": {},
   "outputs": [
    {
     "name": "stderr",
     "output_type": "stream",
     "text": [
      "10001it [01:12, 138.59it/s]                            \n"
     ]
    },
    {
     "data": {
      "image/png": "[encoded data removed]",
      "text/plain": [
       "<Figure size 432x288 with 1 Axes>"
      ]
     },
     "metadata": {
      "needs_background": "light"
     },
     "output_type": "display_data"
    }
   ],
   "source": [
    "model.plot_results(showComparison=True)"
   ]
  },
  {
   "cell_type": "markdown",
   "metadata": {},
   "source": [
    "#### F. Plot the results, show the 2D domain, with a color representing the concentration at each point. Make a plot of the state of the system at several times: t = {0, 0.001, 0.01, 0.1, and 1}."
   ]
  },
  {
   "cell_type": "code",
   "execution_count": 132,
   "metadata": {},
   "outputs": [
    {
     "data": {
      "image/png": "[encoded data removed]",
      "text/plain": [
       "<Figure size 432x288 with 1 Axes>"
      ]
     },
     "metadata": {
      "needs_background": "light"
     },
     "output_type": "display_data"
    },
    {
     "data": {
      "image/png": "[encoded data removed]",
      "text/plain": [
       "<Figure size 432x288 with 1 Axes>"
      ]
     },
     "metadata": {
      "needs_background": "light"
     },
     "output_type": "display_data"
    },
    {
     "data": {
      "image/png": "[encoded data removed]",
      "text/plain": [
       "<Figure size 432x288 with 1 Axes>"
      ]
     },
     "metadata": {
      "needs_background": "light"
     },
     "output_type": "display_data"
    }
   ],
   "source": [
    "model.plot_results(showProgress=True)"
   ]
  },
  {
   "cell_type": "markdown",
   "metadata": {},
   "source": [
    "#### G. Make an animated plot of the time dependent diffusion equation until equilibrium."
   ]
  },
  {
   "cell_type": "code",
   "execution_count": 171,
   "metadata": {},
   "outputs": [
    {
     "name": "stderr",
     "output_type": "stream",
     "text": [
      "99001it [11:42, 140.97it/s]                                       \n",
      "MovieWriter ffmpeg unavailable. Trying to use html instead.\n"
     ]
    },
    {
     "data": {
      "image/png": "[encoded data removed]",
      "text/plain": [
       "<Figure size 432x288 with 1 Axes>"
      ]
     },
     "metadata": {
      "needs_background": "light"
     },
     "output_type": "display_data"
    }
   ],
   "source": [
    "times = np.arange(0, 1, .01)\n",
    "\n",
    "model = diffusion_equation(times)\n",
    "model.time_dependent_iteration()\n",
    "\n",
    "model.plot_results(makeVid=True)"
   ]
  },
  {
   "cell_type": "markdown",
   "metadata": {},
   "source": [
    "# question for TA: animated plot of the visualization or the graph? "
   ]
  },
  {
   "cell_type": "markdown",
   "metadata": {},
   "source": [
    "## 1.3 The Time Independent Diffusion Equation"
   ]
  },
  {
   "cell_type": "markdown",
   "metadata": {},
   "source": [
    "## 1.4 The Jacobi Iteration"
   ]
  },
  {
   "cell_type": "markdown",
   "metadata": {},
   "source": [
    "## 1.5 The Gauss-Seidel Iteration"
   ]
  },
  {
   "cell_type": "markdown",
   "metadata": {},
   "source": [
    "## 1.6 Successive Over Relaxation"
   ]
  },
  {
   "cell_type": "markdown",
   "metadata": {},
   "source": [
    "####  H. Implement the Jacobi iteration, the Gauss-Seidel method and SOR. Try N = 50. Test the methods by comparing the result to the analytical result in eq. (5), i.e. the linear dependence of the concentration on y."
   ]
  },
  {
   "cell_type": "code",
   "execution_count": null,
   "metadata": {},
   "outputs": [],
   "source": []
  },
  {
   "cell_type": "markdown",
   "metadata": {},
   "source": [
    "#### J. In the SOR method, find the optimal ω. How does it depend on N?."
   ]
  },
  {
   "cell_type": "code",
   "execution_count": null,
   "metadata": {},
   "outputs": [],
   "source": []
  },
  {
   "cell_type": "markdown",
   "metadata": {},
   "source": [
    "#### G. Implement the possibility to include objects into the computational domain. The objects should be sinks. \n",
    "    - Experiment a little bit with some objects in the computational domain (e.g. a rectangle or a few rectangles, ...). \n",
    "    - What is the influence on the number of iterations?\n",
    "    - What about the optimal ω , is it influenced by the presence of objects? Look at the resulting concentration fields, and try to interpret what happens. "
   ]
  },
  {
   "cell_type": "code",
   "execution_count": null,
   "metadata": {},
   "outputs": [],
   "source": []
  },
  {
   "cell_type": "markdown",
   "metadata": {},
   "source": [
    "#### H. Optional. Think of a way to incorporate objects with insulating material in your domain. What changes in the time evolution of the system? And in the final state?"
   ]
  },
  {
   "cell_type": "code",
   "execution_count": null,
   "metadata": {},
   "outputs": [],
   "source": []
  }
 ],
 "metadata": {
  "kernelspec": {
   "display_name": "Python 3",
   "language": "python",
   "name": "python3"
  },
  "language_info": {
   "codemirror_mode": {
    "name": "ipython",
    "version": 3
   },
   "file_extension": ".py",
   "mimetype": "text/x-python",
   "name": "python",
   "nbconvert_exporter": "python",
   "pygments_lexer": "ipython3",
   "version": "3.7.2"
  }
 },
 "nbformat": 4,
 "nbformat_minor": 2
}
