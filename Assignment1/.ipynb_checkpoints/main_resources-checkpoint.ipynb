{
 "cells": [
  {
   "cell_type": "markdown",
   "metadata": {},
   "source": [
    "### 1. Wave equation\n",
    "\n",
    "Theory: http://hplgit.github.io/INF5620/doc/pub/sphinx-wave/._main_wave002.html\n",
    "\n",
    "Code: https://github.com/hplgit/fdm-book/tree/master/src/wave/wave1D"
   ]
  },
  {
   "cell_type": "markdown",
   "metadata": {},
   "source": [
    "### 2. Time Dependent Diffusion equation\n",
    "\n",
    "Theory: https://link.springer.com/content/pdf/10.1007%2F978-3-319-55456-3_3.pdf\n",
    "\n",
    "Code: https://github.com/hplgit/fdm-book/tree/master/src/diffu\n",
    "\n",
    "### 3. Time Independent Diffusion equation\n",
    "\n",
    "Theory: https://link.springer.com/content/pdf/10.1007%2F978-3-319-55456-3_3.pdf\n",
    "\n",
    "Theory+: https://www.ethz.ch/content/dam/ethz/special-interest/bsse/cobi-dam/documents/Spat-Temp_Modelling/Numerics_PDE.pdf\n"
   ]
  },
  {
   "cell_type": "markdown",
   "metadata": {},
   "source": [
    "### 4. Jacobi Iteration\n",
    "\n",
    "Theory + code: http://hplgit.github.io/fdm-book/doc/pub/book/sphinx/._book011.html"
   ]
  },
  {
   "cell_type": "markdown",
   "metadata": {},
   "source": [
    "### 5. Gauss-Seidel Iteration\n",
    "Theory: https://tinyurl.com/y9f267qw\n",
    "\n",
    "Theory + code: http://hplgit.github.io/fdm-book/doc/pub/book/sphinx/._book011.html#diffu-2d-sor"
   ]
  },
  {
   "cell_type": "markdown",
   "metadata": {},
   "source": [
    "### 6. Successive Over Relaxation (SOR)\n",
    "\n",
    "Theory + code: http://hplgit.github.io/fdm-book/doc/pub/book/sphinx/._book011.html#diffu-2d-sor"
   ]
  }
 ],
 "metadata": {
  "kernelspec": {
   "display_name": "Python 3",
   "language": "python",
   "name": "python3"
  },
  "language_info": {
   "codemirror_mode": {
    "name": "ipython",
    "version": 3
   },
   "file_extension": ".py",
   "mimetype": "text/x-python",
   "name": "python",
   "nbconvert_exporter": "python",
   "pygments_lexer": "ipython3",
   "version": "3.7.1"
  }
 },
 "nbformat": 4,
 "nbformat_minor": 2
}
